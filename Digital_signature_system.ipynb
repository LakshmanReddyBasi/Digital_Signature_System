{
  "nbformat": 4,
  "nbformat_minor": 0,
  "metadata": {
    "colab": {
      "provenance": [],
      "include_colab_link": true
    },
    "kernelspec": {
      "name": "python3",
      "display_name": "Python 3"
    },
    "language_info": {
      "name": "python"
    }
  },
  "cells": [
    {
      "cell_type": "markdown",
      "metadata": {
        "id": "view-in-github",
        "colab_type": "text"
      },
      "source": [
        "<a href=\"https://colab.research.google.com/github/LakshmanReddyBasi/Digital_Signature_System/blob/main/Digital_signature_system.ipynb\" target=\"_parent\"><img src=\"https://colab.research.google.com/assets/colab-badge.svg\" alt=\"Open In Colab\"/></a>"
      ]
    },
    {
      "cell_type": "code",
      "execution_count": 1,
      "metadata": {
        "colab": {
          "base_uri": "https://localhost:8080/"
        },
        "id": "Z8g7xOBUSP0f",
        "outputId": "e8a245b5-8ba8-4a69-d998-925eedd975c0"
      },
      "outputs": [
        {
          "output_type": "stream",
          "name": "stdout",
          "text": [
            "Requirement already satisfied: rsa in /usr/local/lib/python3.11/dist-packages (4.9)\n",
            "Requirement already satisfied: pyasn1>=0.1.3 in /usr/local/lib/python3.11/dist-packages (from rsa) (0.6.1)\n"
          ]
        }
      ],
      "source": [
        "pip install rsa\n"
      ]
    },
    {
      "cell_type": "code",
      "source": [
        "!pip install rsa\n"
      ],
      "metadata": {
        "colab": {
          "base_uri": "https://localhost:8080/"
        },
        "id": "wyyefBpUSe0A",
        "outputId": "e720bd54-00fe-4f32-cb93-e4bf359f60e6"
      },
      "execution_count": 2,
      "outputs": [
        {
          "output_type": "stream",
          "name": "stdout",
          "text": [
            "Requirement already satisfied: rsa in /usr/local/lib/python3.11/dist-packages (4.9)\n",
            "Requirement already satisfied: pyasn1>=0.1.3 in /usr/local/lib/python3.11/dist-packages (from rsa) (0.6.1)\n"
          ]
        }
      ]
    },
    {
      "cell_type": "code",
      "source": [
        "import rsa\n",
        "print(\"RSA module imported successfully!\")\n"
      ],
      "metadata": {
        "colab": {
          "base_uri": "https://localhost:8080/"
        },
        "id": "pi1Cbit7SqRg",
        "outputId": "4ccc0706-1300-4321-e518-9dd3c4127166"
      },
      "execution_count": 3,
      "outputs": [
        {
          "output_type": "stream",
          "name": "stdout",
          "text": [
            "RSA module imported successfully!\n"
          ]
        }
      ]
    },
    {
      "cell_type": "code",
      "source": [
        "import rsa\n"
      ],
      "metadata": {
        "id": "gvHp7NAbTHNC"
      },
      "execution_count": 4,
      "outputs": []
    },
    {
      "cell_type": "code",
      "source": [
        "def generate_keys():\n",
        "    \"\"\"Generate RSA key pair (public and private keys).\"\"\"\n",
        "    public_key, private_key = rsa.newkeys(2048)\n",
        "    return public_key, private_key\n"
      ],
      "metadata": {
        "id": "FYXrHlPcTJuR"
      },
      "execution_count": 5,
      "outputs": []
    },
    {
      "cell_type": "code",
      "source": [
        "def sign_message(message, private_key):\n",
        "    \"\"\"Sign the message using the private key.\"\"\"\n",
        "    message_bytes = message.encode()  # Convert message to bytes\n",
        "    signature = rsa.sign(message_bytes, private_key, 'SHA-256')\n",
        "    return signature.hex()  # Convert to hexadecimal for easy display\n"
      ],
      "metadata": {
        "id": "o3KMT_16TMAD"
      },
      "execution_count": 6,
      "outputs": []
    },
    {
      "cell_type": "code",
      "source": [
        "def verify_signature(message, signature_hex, public_key):\n",
        "    \"\"\"Verify the digital signature using the public key.\"\"\"\n",
        "    try:\n",
        "        message_bytes = message.encode()\n",
        "        signature = bytes.fromhex(signature_hex)  # Convert hex back to bytes\n",
        "        rsa.verify(message_bytes, signature, public_key)\n",
        "        return True  # Signature is valid\n",
        "    except rsa.VerificationError:\n",
        "        return False  # Signature is invalid\n",
        "    except ValueError:\n",
        "        return False  # Incorrect signature format\n"
      ],
      "metadata": {
        "id": "7VKMK8T4TWgL"
      },
      "execution_count": 7,
      "outputs": []
    },
    {
      "cell_type": "code",
      "source": [
        "if __name__ == \"__main__\":\n",
        "    print(\"Generating RSA keys...\")\n",
        "    public_key, private_key = generate_keys()\n",
        "\n",
        "    message = \"This is a confidential message.\"\n",
        "    print(\"\\nOriginal Message:\", message)\n",
        "\n",
        "    # Generate digital signature\n",
        "    signature = sign_message(message, private_key)\n",
        "    print(\"\\nGenerated Digital Signature:\", signature)\n",
        "\n",
        "    # Verify signature\n",
        "    is_valid = verify_signature(message, signature, public_key)\n",
        "    if is_valid:\n",
        "        print(\"\\n✅ Signature is valid!\")\n",
        "    else:\n",
        "        print(\"\\n❌ Signature is invalid!\")\n"
      ],
      "metadata": {
        "id": "tdbvhCS4TgUT"
      },
      "execution_count": null,
      "outputs": []
    },
    {
      "cell_type": "code",
      "source": [
        "import rsa\n",
        "\n",
        "def generate_keys():\n",
        "    \"\"\"Generate RSA key pair (public and private keys).\"\"\"\n",
        "    public_key, private_key = rsa.newkeys(2048)\n",
        "    return public_key, private_key\n",
        "\n",
        "def sign_message(message, private_key):\n",
        "    \"\"\"Sign the message using the private key.\"\"\"\n",
        "    message_bytes = message.encode()  # Convert message to bytes\n",
        "    signature = rsa.sign(message_bytes, private_key, 'SHA-256')\n",
        "    return signature.hex()  # Convert to hexadecimal for easy display\n",
        "\n",
        "def verify_signature(message, signature_hex, public_key):\n",
        "    \"\"\"Verify the digital signature using the public key.\"\"\"\n",
        "    try:\n",
        "        message_bytes = message.encode()\n",
        "        signature = bytes.fromhex(signature_hex)  # Convert hex back to bytes\n",
        "        rsa.verify(message_bytes, signature, public_key)\n",
        "        return True  # Signature is valid\n",
        "    except rsa.VerificationError:\n",
        "        return False  # Signature is invalid\n",
        "    except ValueError:\n",
        "        return False  # Incorrect signature format\n",
        "\n",
        "# Example Usage\n",
        "if __name__ == \"__main__\":\n",
        "    print(\"Generating RSA keys...\")\n",
        "    public_key, private_key = generate_keys()\n",
        "\n",
        "    message = \"This is a confidential message.\"\n",
        "    print(\"\\nOriginal Message:\", message)\n",
        "\n",
        "    # Generate digital signature\n",
        "    signature = sign_message(message, private_key)\n",
        "    print(\"\\nGenerated Digital Signature:\", signature)\n",
        "\n",
        "    # Verify signature\n",
        "    is_valid = verify_signature(message, signature, public_key)\n",
        "    if is_valid:\n",
        "        print(\"\\n✅ Signature is valid!\")\n",
        "    else:\n",
        "        print(\"\\n❌ Signature is invalid!\")\n"
      ],
      "metadata": {
        "colab": {
          "base_uri": "https://localhost:8080/"
        },
        "id": "EcThrQcQSyKd",
        "outputId": "1fc1fcad-9f24-4d68-c0e7-a138ff4b974e"
      },
      "execution_count": 9,
      "outputs": [
        {
          "output_type": "stream",
          "name": "stdout",
          "text": [
            "Generating RSA keys...\n",
            "\n",
            "Original Message: This is a confidential message.\n",
            "\n",
            "Generated Digital Signature: 1fa3890323950f3b184d00afa4e01cf243a25169163dce5088327d4c13b8a463d0303292ad79c978531c8e3551fb15100ef58fb3a98961ff47aa46e35505efc700f319200ccf911cc200e09a657b9fc3be195878d8a8d8d43bab3a6dc18b2d64fae80d0e4e2a6e236bf8b354be605624d6a3be04471b16da8f1f0d25cccd1315e6378e55a6fed8b8a8bde20165b621cc49591e18892e76076fd23e582bd7fda539312753ae09d025b1df3d12d9e35ca89eb13c60039580ba2b90dea6de4a1aa49c8babc06f263897b6df39627a575001dcf0e372a9e372cd8447acfe4f7c739df39e951ca84fed3bbdeac5130e844cb04d435d381af91299970ed387f020d920\n",
            "\n",
            "✅ Signature is valid!\n"
          ]
        }
      ]
    },
    {
      "cell_type": "code",
      "source": [
        "import rsa\n",
        "\n",
        "# 🔹 Function to generate and save RSA keys\n",
        "def generate_keys():\n",
        "    \"\"\"Generate and save RSA key pair (public and private keys).\"\"\"\n",
        "    print(\"\\n🔹 Generating RSA Key Pair...\")\n",
        "    public_key, private_key = rsa.newkeys(2048)\n",
        "\n",
        "    # Save keys to files\n",
        "    with open(\"public_key.pem\", \"wb\") as pub_file:\n",
        "        pub_file.write(public_key.save_pkcs1(\"PEM\"))\n",
        "\n",
        "    with open(\"private_key.pem\", \"wb\") as priv_file:\n",
        "        priv_file.write(private_key.save_pkcs1(\"PEM\"))\n",
        "\n",
        "    print(\"✅ Public and Private Keys Generated and Saved!\")\n",
        "    return public_key, private_key\n",
        "\n",
        "# 🔹 Function to load keys from files\n",
        "def load_keys():\n",
        "    \"\"\"Load RSA public and private keys from files.\"\"\"\n",
        "    try:\n",
        "        with open(\"public_key.pem\", \"rb\") as pub_file:\n",
        "            public_key = rsa.PublicKey.load_pkcs1(pub_file.read())\n",
        "\n",
        "        with open(\"private_key.pem\", \"rb\") as priv_file:\n",
        "            private_key = rsa.PrivateKey.load_pkcs1(priv_file.read())\n",
        "\n",
        "        print(\"\\n✅ Keys Loaded Successfully!\")\n",
        "        return public_key, private_key\n",
        "    except FileNotFoundError:\n",
        "        print(\"\\n❌ Key files not found! Generating new keys...\")\n",
        "        return generate_keys()\n",
        "\n",
        "# 🔹 Function to sign a message\n",
        "def sign_message(message, private_key):\n",
        "    \"\"\"Generate a digital signature for the given message.\"\"\"\n",
        "    print(\"\\n🔹 Signing the message...\")\n",
        "    message_bytes = message.encode()\n",
        "    signature = rsa.sign(message_bytes, private_key, 'SHA-256')\n",
        "    signature_hex = signature.hex()\n",
        "\n",
        "    # Save signature to a file\n",
        "    with open(\"signature.txt\", \"w\") as sig_file:\n",
        "        sig_file.write(signature_hex)\n",
        "\n",
        "    print(\"✅ Digital Signature Generated and Saved!\")\n",
        "    return signature_hex\n",
        "\n",
        "# 🔹 Function to verify a digital signature\n",
        "def verify_signature(message, signature_hex, public_key):\n",
        "    \"\"\"Verify the digital signature using the public key.\"\"\"\n",
        "    print(\"\\n🔹 Verifying the signature...\")\n",
        "    try:\n",
        "        message_bytes = message.encode()\n",
        "        signature = bytes.fromhex(signature_hex)\n",
        "        rsa.verify(message_bytes, signature, public_key)\n",
        "        print(\"✅ Signature is VALID! Message is authentic.\")\n",
        "        return True\n",
        "    except rsa.VerificationError:\n",
        "        print(\"❌ Signature is INVALID! Message may be tampered with.\")\n",
        "        return False\n",
        "    except ValueError:\n",
        "        print(\"❌ Incorrect signature format!\")\n",
        "        return False\n",
        "\n",
        "# 🔹 Main execution function\n",
        "def main():\n",
        "    \"\"\"Main function to handle user interactions for Digital Signature System.\"\"\"\n",
        "    print(\"\\n🔹 Welcome to Digital Signature System 🔹\")\n",
        "\n",
        "    # Load or generate keys\n",
        "    public_key, private_key = load_keys()\n",
        "\n",
        "    while True:\n",
        "        print(\"\\nOptions:\")\n",
        "        print(\"1️⃣ Sign a Message\")\n",
        "        print(\"2️⃣ Verify a Signature\")\n",
        "        print(\"3️⃣ Exit\")\n",
        "        choice = input(\"\\nEnter your choice (1/2/3): \")\n",
        "\n",
        "        if choice == \"1\":\n",
        "            message = input(\"\\nEnter the message to sign: \")\n",
        "            signature = sign_message(message, private_key)\n",
        "            print(\"\\n🔹 Digital Signature:\", signature)\n",
        "\n",
        "        elif choice == \"2\":\n",
        "            message = input(\"\\nEnter the original message: \")\n",
        "            try:\n",
        "                with open(\"signature.txt\", \"r\") as sig_file:\n",
        "                    saved_signature = sig_file.read().strip()\n",
        "                verify_signature(message, saved_signature, public_key)\n",
        "            except FileNotFoundError:\n",
        "                print(\"❌ Signature file not found! Sign a message first.\")\n",
        "\n",
        "        elif choice == \"3\":\n",
        "            print(\"\\n🚀 Exiting... Thank you for using the Digital Signature System!\")\n",
        "            break\n",
        "\n",
        "        else:\n",
        "            print(\"❌ Invalid choice! Please enter 1, 2, or 3.\")\n",
        "\n",
        "# Run the program\n",
        "if __name__ == \"__main__\":\n",
        "    main()\n"
      ],
      "metadata": {
        "colab": {
          "base_uri": "https://localhost:8080/"
        },
        "id": "DFIinh1LToLs",
        "outputId": "f23bc886-e2c6-4766-efad-a8412826d6bb"
      },
      "execution_count": 10,
      "outputs": [
        {
          "output_type": "stream",
          "name": "stdout",
          "text": [
            "\n",
            "🔹 Welcome to Digital Signature System 🔹\n",
            "\n",
            "❌ Key files not found! Generating new keys...\n",
            "\n",
            "🔹 Generating RSA Key Pair...\n",
            "✅ Public and Private Keys Generated and Saved!\n",
            "\n",
            "Options:\n",
            "1️⃣ Sign a Message\n",
            "2️⃣ Verify a Signature\n",
            "3️⃣ Exit\n",
            "\n",
            "Enter your choice (1/2/3): 2\n",
            "\n",
            "Enter the original message: hello lakshman\n",
            "❌ Signature file not found! Sign a message first.\n",
            "\n",
            "Options:\n",
            "1️⃣ Sign a Message\n",
            "2️⃣ Verify a Signature\n",
            "3️⃣ Exit\n",
            "\n",
            "Enter your choice (1/2/3): 2\n",
            "\n",
            "Enter the original message: hellow\n",
            "❌ Signature file not found! Sign a message first.\n",
            "\n",
            "Options:\n",
            "1️⃣ Sign a Message\n",
            "2️⃣ Verify a Signature\n",
            "3️⃣ Exit\n",
            "\n",
            "Enter your choice (1/2/3): 1\n",
            "\n",
            "Enter the message to sign: hai lucky\n",
            "\n",
            "🔹 Signing the message...\n",
            "✅ Digital Signature Generated and Saved!\n",
            "\n",
            "🔹 Digital Signature: 3db38989a94240c8de4f2ab7091d589e18b553d7501ab019f50a6739e42b14847996c2ef05d851c2acc2e07ea482fd1f0149dd3d6ada493a18b7c9da7a273a80389f14f498d7a60bb4ace95af2b5a0096e4b97c89ac0c0f41af2d9ec5d44811654c060a64cf9499131eab167f7836c020b5006a15d75fa54a317c6548c379d1c4edc054717ebd14f61c44ad5354dcec89f69f34aed6e771f96b558b1c0308b987fd34d933f3175e6d0d1827fb87e2c80102641c41c938da376b6647cf0a9f5908f1d530488384806ae5635633abed45c3030f5362ba83228138267d710ee76eb0d4a3618b6e5fa001fd9ce64301a6876064e41f3fb63336826e325f621318d0d\n",
            "\n",
            "Options:\n",
            "1️⃣ Sign a Message\n",
            "2️⃣ Verify a Signature\n",
            "3️⃣ Exit\n",
            "\n",
            "Enter your choice (1/2/3): 2\n",
            "\n",
            "Enter the original message: hai lucky\n",
            "\n",
            "🔹 Verifying the signature...\n",
            "✅ Signature is VALID! Message is authentic.\n",
            "\n",
            "Options:\n",
            "1️⃣ Sign a Message\n",
            "2️⃣ Verify a Signature\n",
            "3️⃣ Exit\n",
            "\n",
            "Enter your choice (1/2/3): 3\n",
            "\n",
            "🚀 Exiting... Thank you for using the Digital Signature System!\n"
          ]
        }
      ]
    }
  ]
}